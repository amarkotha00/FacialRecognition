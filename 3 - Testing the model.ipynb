{
 "cells": [
  {
   "cell_type": "code",
   "execution_count": 2,
   "metadata": {},
   "outputs": [],
   "source": [
    "import joblib\n",
    "model=joblib.load('SVM-FaceRecognition.sav')"
   ]
  },
  {
   "cell_type": "code",
   "execution_count": 27,
   "metadata": {},
   "outputs": [],
   "source": [
    "category_dict={0:'Barack Obama', 1:'Donald Trump',2:'George W Bush'}\n",
    "import os\n",
    "import cv2\n",
    "\n",
    "test_data_path='test_data'\n",
    "\n",
    "test_img_names=os.listdir(test_data_path)\n",
    "face_classifier=cv2.CascadeClassifier('haarcascade_frontalface_default.xml')\n",
    "\n",
    "capture=cv2.VideoCapture(0)\n",
    "\n",
    "for test_img in test_img_names:\n",
    "    \n",
    "    img_path=os.path.join(test_data_path,test_img)\n",
    "    test_img=cv2.imread(img_path)\n",
    "    gray=cv2.cvtColor(test_img,cv2.COLOR_BGR2GRAY)\n",
    "    faces=face_classifier.detectMultiScale(gray)\n",
    "    \n",
    "    for (x,y,w,h) in faces:\n",
    "        \n",
    "        cv2.rectangle(test_img,(x,y),(x+w,y+h),(0,255,0),2)\n",
    "        \n",
    "        cropped_face=gray[y:y+h,x:x+w]\n",
    "        cropped_face=cv2.resize(cropped_face,(50, 50))\n",
    "        cropped_original=cropped_face\n",
    "        cropped_face=cropped_face.reshape(1,50*50)\n",
    "        \n",
    "        result=model.predict(cropped_face)\n",
    "        name=category_dict[result[0]]\n",
    "\n",
    "        cv2.putText(test_img,name,(x,y-10),cv2.FONT_HERSHEY_SIMPLEX,1.5,(0,255,0),2)\n",
    "        cv2.imshow('GRAY',cropped_original)\n",
    "    cv2.imshow('LIVE',test_img)\n",
    "    \n",
    "    \n",
    "    k=cv2.waitKey(1000)\n",
    "    if(k==27):\n",
    "        break\n",
    "cv2.destroyAllWindows()\n"
   ]
  },
  {
   "cell_type": "code",
   "execution_count": null,
   "metadata": {},
   "outputs": [],
   "source": []
  }
 ],
 "metadata": {
  "kernelspec": {
   "display_name": "Python 3",
   "language": "python",
   "name": "python3"
  },
  "language_info": {
   "codemirror_mode": {
    "name": "ipython",
    "version": 3
   },
   "file_extension": ".py",
   "mimetype": "text/x-python",
   "name": "python",
   "nbconvert_exporter": "python",
   "pygments_lexer": "ipython3",
   "version": "3.8.3"
  }
 },
 "nbformat": 4,
 "nbformat_minor": 4
}
