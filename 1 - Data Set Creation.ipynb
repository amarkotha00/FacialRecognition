{
 "cells": [
  {
   "cell_type": "code",
   "execution_count": 1,
   "metadata": {},
   "outputs": [
    {
     "name": "stdout",
     "output_type": "stream",
     "text": [
      "labels: ['Barack Obama', 'Donald Trump', 'George W Bush']\n",
      "categories: [0 1 2]\n",
      "category_dict: {'Barack Obama': 0, 'Donald Trump': 1, 'George W Bush': 2}\n"
     ]
    }
   ],
   "source": [
    "import os\n",
    "import numpy as np\n",
    "\n",
    "data_path=r'train_data_2'\n",
    "\n",
    "labels=os.listdir(data_path)\n",
    "categories=np.arange(len(labels))\n",
    "category_dict=dict(zip(labels,categories))\n",
    "\n",
    "print('labels:',labels)\n",
    "print('categories:',categories)\n",
    "print('category_dict:',category_dict)\n"
   ]
  },
  {
   "cell_type": "code",
   "execution_count": 16,
   "metadata": {},
   "outputs": [],
   "source": [
    "import cv2\n",
    "\n",
    "face_classifier=cv2.CascadeClassifier('haarcascade_frontalface_default.xml')\n",
    "\n",
    "data=[]\n",
    "target=[]\n",
    "\n",
    "for label in labels:\n",
    "    \n",
    "    imgs_path=os.path.join(data_path,label)\n",
    "    img_names=os.listdir(imgs_path)\n",
    "    \n",
    "    for img_name in img_names:\n",
    "        \n",
    "        img_path=os.path.join(imgs_path,img_name)\n",
    "        img=cv2.imread(img_path)\n",
    "        \n",
    "        gray=cv2.cvtColor(img,cv2.COLOR_BGR2GRAY)\n",
    "        faces=face_classifier.detectMultiScale(gray)\n",
    "        try:\n",
    "            for(x,y,w,h) in faces:\n",
    "                cropped_face=gray[y:y+h,x:x+w]  #Crop the picture to the important features\n",
    "                cv2.imshow('LIVE',cropped_face)\n",
    "                key=cv2.waitKey(0) #Wait for the USER To press Y as in to Accept the image\n",
    "        \n",
    "                if(key==121):\n",
    "                  \n",
    "                    cropped_face=cv2.resize(cropped_face,(50,50))\n",
    "                    data.append(cropped_face)\n",
    "                    target.append(category_dict[label])\n",
    "                \n",
    "                else:\n",
    "                    \n",
    "                    pass\n",
    "        except:\n",
    "           \n",
    "            pass\n",
    "        \n",
    "cv2.destroyAllWindows()\n",
    "            \n",
    "       \n",
    "        #cv2.rectangle(img,(x,y),(x+w,y+h),(0,255,0),3) (To show rectangle around the image)\n",
    "        #cv2.imshow('LIVE',cropped_face)\n",
    "        #key=cv2.waitKey(0)\n",
    "        \n",
    "        \n",
    "        #if(key==27):\n",
    "        #    break\n",
    "#cv2.destroyAllWindows()\n",
    "        \n",
    "    \n",
    "        \n",
    "    "
   ]
  },
  {
   "cell_type": "code",
   "execution_count": 17,
   "metadata": {},
   "outputs": [],
   "source": [
    "data=np.array(data)\n",
    "target=np.array(target)\n",
    "\n",
    "noImages,height,width=data.shape\n",
    "\n",
    "data=data.reshape(noImages,height*width) #flattening images\n",
    "np.save('data',data)\n",
    "np.save('target',target)"
   ]
  },
  {
   "cell_type": "code",
   "execution_count": 18,
   "metadata": {},
   "outputs": [
    {
     "name": "stdout",
     "output_type": "stream",
     "text": [
      "(215, 2500)\n",
      "(215,)\n"
     ]
    }
   ],
   "source": [
    "print(data.shape)\n",
    "print(target.shape)"
   ]
  },
  {
   "cell_type": "code",
   "execution_count": null,
   "metadata": {},
   "outputs": [],
   "source": []
  }
 ],
 "metadata": {
  "kernelspec": {
   "display_name": "Python 3",
   "language": "python",
   "name": "python3"
  },
  "language_info": {
   "codemirror_mode": {
    "name": "ipython",
    "version": 3
   },
   "file_extension": ".py",
   "mimetype": "text/x-python",
   "name": "python",
   "nbconvert_exporter": "python",
   "pygments_lexer": "ipython3",
   "version": "3.8.3"
  }
 },
 "nbformat": 4,
 "nbformat_minor": 4
}
